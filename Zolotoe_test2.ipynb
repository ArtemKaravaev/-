{
 "cells": [
  {
   "cell_type": "code",
   "execution_count": 5,
   "id": "939030ea",
   "metadata": {},
   "outputs": [],
   "source": [
    "def inputzolotoe():\n",
    "   \n",
    "    param = input('Введите название переменной ')\n",
    "    if len(param) > 1:\n",
    "        print('Введено более одной переменной')\n",
    "    elif len(param) < 1:\n",
    "        print('Введено менее одной прееменной')\n",
    "    f = input('Функция в аналитическом виде :  ')\n",
    "    a = input('Введите \"a\": ')\n",
    "    b = input('Введите \"b\": ')\n",
    "\n",
    " \n",
    "    Final = {'p1': param,\n",
    "             'func': f,\n",
    "             'a': a,\n",
    "             'b': b}\n",
    "    return Final"
   ]
  },
  {
   "cell_type": "code",
   "execution_count": 6,
   "id": "5547536c",
   "metadata": {},
   "outputs": [],
   "source": [
    "from sympy import *"
   ]
  },
  {
   "cell_type": "code",
   "execution_count": 7,
   "id": "4f1e475f",
   "metadata": {},
   "outputs": [],
   "source": [
    "def zolotoe(data):\n",
    "    import time \n",
    "    import numpy as np\n",
    "    import sympy\n",
    "    from matplotlib import pyplot as plt   \n",
    "    from matplotlib import style   \n",
    "    \n",
    "    from sympy.parsing.sympy_parser import parse_expr\n",
    "\n",
    "    f = data['func']\n",
    "    f = parse_expr(f)\n",
    "   \n",
    "    a = float(data['a'])\n",
    "    b = float(data['b'])\n",
    "    #a,b = symbols('a b')\n",
    "    \n",
    "    start_time = time.time()\n",
    "   \n",
    "    e=0.00001\n",
    "    alpha=1.618\n",
    "    n = round(np.log((-a+b)/e)/np.log(alpha))\n",
    "    x = Symbol('x')\n",
    "    x1=b-(b-a)/alpha\n",
    "    x2=a+(b-a)/alpha\n",
    "    y1=f.subs(x,x1)\n",
    "    y2=f.subs(x,x2)\n",
    "    i = 0\n",
    "    k=[]\n",
    "    plt.plot(k,'b', label='line one', linewidth=5)   \n",
    "    plt.title('значения функции ')   \n",
    "    plt.rcParams['figure.figsize'] = (5,5)\n",
    "    plt.xlabel('X axis')   \n",
    "    plt.ylabel('y axis') \n",
    "    while abs(b - a) > e:\n",
    "        \n",
    "        if y1<y2:\n",
    "            b=x2\n",
    "            x2=x1\n",
    "            x1=b-(b-a)/alpha\n",
    "            y2=y1\n",
    "            y1=f.subs(x,x1)\n",
    "            i=i+1\n",
    "            k.append(y1)\n",
    "            \n",
    "            plt.plot(k,'b', label='line one', linewidth=5)  \n",
    "            \n",
    "        \n",
    "               \n",
    "        elif y1>=y2:\n",
    "            a=x1\n",
    "            x1=x2\n",
    "            x2=a+(b-a)/alpha\n",
    "            y1=y2\n",
    "            y2=f.subs(x,x2)\n",
    "            i=i+1\n",
    "            k.append(y1)\n",
    "            \n",
    "            plt.plot(k,'b', label='line one', linewidth=5) \n",
    "\n",
    "    print(f'x-точка минимума={a}')\n",
    "    print(f'y-значение функции в точки минимума={y1}')\n",
    "    print(f'i(количество итераций цикла)={i}') \n",
    "    \n",
    "    plt.scatter(n-1, y1, c='red',linewidth=10)\n",
    "    \n",
    "    print(\"время выполнения( в секундах ) = %s  \" % (time.time() - start_time))\n",
    "    print()"
   ]
  },
  {
   "cell_type": "code",
   "execution_count": 8,
   "id": "a95c7af5",
   "metadata": {},
   "outputs": [
    {
     "name": "stdout",
     "output_type": "stream",
     "text": [
      "Введите название переменной x\n",
      "Функция в аналитическом виде :  -5*x**5+4*x**4-12*x**3+11*x**2-2*x+1\n",
      "Введите \"a\": -0.5\n",
      "Введите \"b\": 0.5\n",
      "x-точка минимума=0.10985725874626306\n",
      "y-значение функции в точки минимума=0.897632971929237\n",
      "i(количество итераций цикла)=24\n",
      "время выполнения( в секундах ) = 0.029526472091674805  \n",
      "\n"
     ]
    },
    {
     "data": {
      "image/png": "[encoded data removed]",
      "text/plain": [
       "<Figure size 360x360 with 1 Axes>"
      ]
     },
     "metadata": {
      "needs_background": "light"
     },
     "output_type": "display_data"
    }
   ],
   "source": [
    "zolotoe(inputzolotoe())"
   ]
  },
  {
   "cell_type": "code",
   "execution_count": 20,
   "id": "48a876d0",
   "metadata": {},
   "outputs": [
    {
     "name": "stdout",
     "output_type": "stream",
     "text": [
      "Введите название переменной x\n",
      "Функция в аналитическом виде :  (ln(x-2))**2 + (ln(10-x))**2-x**(0.2)\n",
      "Введите \"a\": 6.6\n",
      "Введите \"b\": 9.9\n",
      "x-точка минимума=8.50158294498017\n",
      "y-значение функции в точки минимума=2.13383834166170\n",
      "i(количество итераций цикла)=27\n",
      "время выполнения( в секундах ) = 0.05021834373474121  \n",
      "\n"
     ]
    },
    {
     "data": {
      "image/png": "[encoded data removed]",
      "text/plain": [
       "<Figure size 360x360 with 1 Axes>"
      ]
     },
     "metadata": {
      "needs_background": "light"
     },
     "output_type": "display_data"
    }
   ],
   "source": [
    "zolotoe(inputzolotoe())"
   ]
  },
  {
   "cell_type": "code",
   "execution_count": 22,
   "id": "9ab90d6a",
   "metadata": {},
   "outputs": [
    {
     "name": "stdout",
     "output_type": "stream",
     "text": [
      "Введите название переменной x\n",
      "Функция в аналитическом виде :  -3*x*sin(0.75*x)+exp(-2*x)\n",
      "Введите \"a\": 0\n",
      "Введите \"b\": 6.28\n",
      "x-точка минимума=2.7064688083763486\n",
      "y-значение функции в точки минимума=-7.27435797002765\n",
      "i(количество итераций цикла)=28\n",
      "время выполнения( в секундах ) = 0.03502464294433594  \n",
      "\n"
     ]
    },
    {
     "data": {
      "image/png": "[encoded data removed]",
      "text/plain": [
       "<Figure size 360x360 with 1 Axes>"
      ]
     },
     "metadata": {
      "needs_background": "light"
     },
     "output_type": "display_data"
    }
   ],
   "source": [
    "zolotoe(inputzolotoe())"
   ]
  },
  {
   "cell_type": "code",
   "execution_count": 23,
   "id": "10ead7e2",
   "metadata": {},
   "outputs": [
    {
     "name": "stdout",
     "output_type": "stream",
     "text": [
      "Введите название переменной x\n",
      "Функция в аналитическом виде :  exp(3*x)+5*exp(-2*x)\n",
      "Введите \"a\": 0\n",
      "Введите \"b\": 1\n",
      "x-точка минимума=0.2407884411168898\n",
      "y-значение функции в точки минимума=5.14834042153327\n",
      "i(количество итераций цикла)=24\n",
      "время выполнения( в секундах ) = 0.0425260066986084  \n",
      "\n"
     ]
    },
    {
     "data": {
      "image/png": "[encoded data removed]",
      "text/plain": [
       "<Figure size 360x360 with 1 Axes>"
      ]
     },
     "metadata": {
      "needs_background": "light"
     },
     "output_type": "display_data"
    }
   ],
   "source": [
    "zolotoe(inputzolotoe())"
   ]
  },
  {
   "cell_type": "code",
   "execution_count": 24,
   "id": "5aa2f45e",
   "metadata": {},
   "outputs": [
    {
     "name": "stdout",
     "output_type": "stream",
     "text": [
      "Введите название переменной x\n",
      "Функция в аналитическом виде :  0.2*x*log(x)+x*(x-2.3)**2\n",
      "Введите \"a\": 0.5\n",
      "Введите \"b\": 2.5\n",
      "x-точка минимума=2.2174501716901975\n",
      "y-значение функции в точки минимума=0.368287577865139\n",
      "i(количество итераций цикла)=26\n",
      "время выполнения( в секундах ) = 0.04084062576293945  \n",
      "\n"
     ]
    },
    {
     "data": {
      "image/png": "[encoded data removed]",
      "text/plain": [
       "<Figure size 360x360 with 1 Axes>"
      ]
     },
     "metadata": {
      "needs_background": "light"
     },
     "output_type": "display_data"
    }
   ],
   "source": [
    "zolotoe(inputzolotoe())"
   ]
  },
  {
   "cell_type": "code",
   "execution_count": null,
   "id": "17080462",
   "metadata": {},
   "outputs": [],
   "source": []
  }
 ],
 "metadata": {
  "kernelspec": {
   "display_name": "Python 3 (ipykernel)",
   "language": "python",
   "name": "python3"
  },
  "language_info": {
   "codemirror_mode": {
    "name": "ipython",
    "version": 3
   },
   "file_extension": ".py",
   "mimetype": "text/x-python",
   "name": "python",
   "nbconvert_exporter": "python",
   "pygments_lexer": "ipython3",
   "version": "3.9.7"
  }
 },
 "nbformat": 4,
 "nbformat_minor": 5
}
