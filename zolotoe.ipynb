{
 "cells": [
  {
   "cell_type": "code",
   "execution_count": 6,
   "metadata": {},
   "outputs": [],
   "source": [
    "def inputzolotoe():\n",
    "   \n",
    "    param = input('Введите название переменной ')\n",
    "    if len(param) > 1:\n",
    "        print('Введено более одной переменной')\n",
    "    elif len(param) < 1:\n",
    "        print('Введено менее одной прееменной')\n",
    "    f = input('Функция в аналитическом виде :  ')\n",
    "    a = input('Введите \"a\": ')\n",
    "    b = input('Введите \"b\": ')\n",
    "\n",
    " \n",
    "    Final = {'p1': param,\n",
    "             'func': f,\n",
    "             'a': a,\n",
    "             'b': b}\n",
    "    return Final"
   ]
  },
  {
   "cell_type": "code",
   "execution_count": 19,
   "metadata": {},
   "outputs": [],
   "source": [
    "def zolotoe(data):\n",
    "    import numpy as np\n",
    "    import sympy\n",
    "    from sympy.parsing.sympy_parser import parse_expr\n",
    "\n",
    "    f = data['func']\n",
    "    f = parse_expr(f)\n",
    "   \n",
    "    a = float(data['a'])\n",
    "    b = float(data['b'])\n",
    "    #a,b = symbols('a b')\n",
    "    \n",
    "    \n",
    "    e=0.05\n",
    "    alpha=1.618\n",
    "    x = symbols('x')\n",
    "    n = round(np.log((-a+b)/e)/np.log(alpha))\n",
    "    x1=b-(b-a)/alpha\n",
    "    x2=a+(b-a)/alpha\n",
    "    y1=f.subs(x,x1)\n",
    "    y2=f.subs(x,x2)\n",
    "    for i in range(1,n+1):\n",
    "        \n",
    "        \n",
    "        if y1<=y2:\n",
    "            b=x2\n",
    "            x2=x1\n",
    "            x1=b-(b-a)/alpha\n",
    "            y2=y1\n",
    "            y1=f.subs(x,x1)\n",
    "            if abs(b-a)>=e:\n",
    "                i=i+1\n",
    "            elif abs(b-a)<e:\n",
    "                print(f'x={a}')\n",
    "                print(f'y={y1}')\n",
    "                print(f'i(количество итераций цикла)={i}')\n",
    "        \n",
    "               \n",
    "        elif y1>y2:\n",
    "            a=x1\n",
    "            x1=x2\n",
    "            x2=a+(b-a)/alpha\n",
    "            y1=y2\n",
    "            y2=f.subs(x,x2)\n",
    "            if abs(b-a)>=e:\n",
    "                i=i+1\n",
    "            elif abs(b-a)<e:\n",
    "                print(f'x-точка минимума={a}')\n",
    "                print(f'y-значение функции в точки минимума={y1}')\n",
    "                print(f'i(количество итераций цикла)={i}')\n",
    "    return {'x1' : x1, \n",
    "            'x2' : x2,\n",
    "            'y1':y1,\n",
    "            'y2':y2,\n",
    "            'alpha':alpha,\n",
    "            'e':e }\n",
    "            \n",
    "                \n",
    "            \n",
    "        \n",
    "                          \n",
    "                              \n",
    "                    \n",
    "                          \n",
    "       \n",
    "                          \n",
    "                          \n",
    "                          \n",
    "       \n",
    "        \n",
    "    \n",
    "    "
   ]
  },
  {
   "cell_type": "code",
   "execution_count": 26,
   "metadata": {},
   "outputs": [
    {
     "name": "stdout",
     "output_type": "stream",
     "text": [
      "Введите название переменной x\n",
      "Функция в аналитическом виде :  -3*x*sin(0.75*x)\n",
      "Введите \"a\": 0\n",
      "Введите \"b\": 6\n",
      "x=2.6749296884192164\n",
      "y=-7.27842589036439\n",
      "i(количество итераций цикла)=10\n"
     ]
    },
    {
     "data": {
      "text/plain": [
       "{'x1': 2.69357443962645,\n",
       " 'x2': 2.7051357249779873,\n",
       " 'y1': -7.27842589036439,\n",
       " 'y2': -7.27882291689858,\n",
       " 'alpha': 1.618,\n",
       " 'e': 0.05}"
      ]
     },
     "execution_count": 26,
     "metadata": {},
     "output_type": "execute_result"
    }
   ],
   "source": [
    "zolotoe(inputzolotoe())"
   ]
  },
  {
   "cell_type": "code",
   "execution_count": null,
   "metadata": {},
   "outputs": [],
   "source": []
  }
 ],
 "metadata": {
  "kernelspec": {
   "display_name": "Python 3",
   "language": "python",
   "name": "python3"
  },
  "language_info": {
   "codemirror_mode": {
    "name": "ipython",
    "version": 3
   },
   "file_extension": ".py",
   "mimetype": "text/x-python",
   "name": "python",
   "nbconvert_exporter": "python",
   "pygments_lexer": "ipython3",
   "version": "3.7.4"
  }
 },
 "nbformat": 4,
 "nbformat_minor": 2
}
