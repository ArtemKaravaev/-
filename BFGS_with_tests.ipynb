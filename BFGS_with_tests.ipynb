{
 "cells": [
  {
   "cell_type": "code",
   "execution_count": 26,
   "id": "disciplinary-austin",
   "metadata": {},
   "outputs": [],
   "source": [
    "from sympy.parsing.sympy_parser import parse_expr\n",
    "from sympy import *"
   ]
  },
  {
   "cell_type": "code",
   "execution_count": 27,
   "id": "integrated-navigation",
   "metadata": {},
   "outputs": [
    {
     "data": {
      "text/plain": [
       "'x[0]**2 - x[0]*x[1] + x[1]**2 + 9*x[0] - 6 * x[1] + 20'"
      ]
     },
     "execution_count": 27,
     "metadata": {},
     "output_type": "execute_result"
    }
   ],
   "source": [
    "def func(var1 = 'x',var2 = 'y',f = 'x**2 - x*y + y**2 + 9*x - 6 * y + 20'):\n",
    "    return f.replace(var1,'x[0]').replace(var2,'x[1]')\n",
    "func()"
   ]
  },
  {
   "cell_type": "code",
   "execution_count": 28,
   "id": "herbal-interstate",
   "metadata": {},
   "outputs": [
    {
     "data": {
      "text/plain": [
       "('2*x[0] - x[1] + 9', '-x[0] + 2*x[1] - 6')"
      ]
     },
     "execution_count": 28,
     "metadata": {},
     "output_type": "execute_result"
    }
   ],
   "source": [
    "def gradFunc(var1 = 'x',var2 = 'y', f = 'x**2 - x*y + y**2 + 9*x - 6 * y + 20' ):\n",
    "    x = Symbol(var1)\n",
    "    y = Symbol(var2)\n",
    "    f = parse_expr(f)\n",
    "    return str(f.diff(x)).replace('x','x[0]').replace('y','x[1]') , str(f.diff(y)).replace('x','x[0]').replace('y','x[1]')\n",
    "gradFunc()"
   ]
  },
  {
   "cell_type": "code",
   "execution_count": 29,
   "id": "mysterious-surname",
   "metadata": {},
   "outputs": [],
   "source": [
    "def f(x):\n",
    "    return x[0]**2 - x[0]*x[1] + x[1]**2 + 9*x[0] - 6*x[1] + 20\n",
    "\n",
    "# gradient\n",
    "def f1(x):\n",
    "    return np.array([2 * x[0] - x[1] + 9, -x[0] + 2*x[1] - 6])"
   ]
  },
  {
   "cell_type": "code",
   "execution_count": 30,
   "id": "fossil-committee",
   "metadata": {},
   "outputs": [],
   "source": [
    "import numpy.linalg as ln\n",
    "import scipy\n",
    "import numpy as np\n",
    "import pandas as pd\n",
    "import scipy.optimize\n",
    "import math\n",
    "import time"
   ]
  },
  {
   "cell_type": "code",
   "execution_count": 71,
   "id": "ethical-subscription",
   "metadata": {},
   "outputs": [],
   "source": [
    "\n",
    "def BFGS(func = f,grad = f1, x0 =[1,1] , v1 = 10**(-4), v2 = 0.1,\n",
    "         xmax =100 , interv = 10 **(-8), maxiter = 500, p1 = False, p2 = False ):\n",
    "    start_time = time.time()\n",
    "    k = 0\n",
    "    gfk = grad(x0)\n",
    "    I = np.eye(2, dtype=int)\n",
    "    Hk = I\n",
    "    xk = x0\n",
    "    XK1 = []\n",
    "    XK2 = []\n",
    "    K = []\n",
    "    F = []\n",
    "    while ln.norm(gfk) > v1 and k < maxiter:\n",
    "        \n",
    "        k += 1\n",
    "        pk = -np.dot(Hk, gfk)\n",
    "\n",
    "        line_search = scipy.optimize.line_search(func, grad, xk, pk, c1 = v1, c2 = v2)\n",
    "        alpha_k = line_search[0]\n",
    "        if alpha_k is not None:\n",
    "            \n",
    "            xkp1 = xk + alpha_k * pk\n",
    "            sk = xkp1 - xk\n",
    "            xk = xkp1\n",
    "        \n",
    "            gfkp1 = grad(xkp1)\n",
    "            yk = gfkp1 - gfk\n",
    "            gfk = gfkp1\n",
    "        \n",
    "            ro = 1.0 / (np.dot(yk, sk))\n",
    "            A1 = I - ro * sk[:, np.newaxis] * yk[np.newaxis, :]\n",
    "            A2 = I - ro * yk[:, np.newaxis] * sk[np.newaxis, :]\n",
    "            Hk = np.dot(A1, np.dot(Hk, A2)) + (ro * sk[:, np.newaxis] *\n",
    "                                                 sk[np.newaxis, :])\n",
    "            if p1:\n",
    "                print(xk, func(xk))\n",
    "       \n",
    "            if p2 :\n",
    "                XK1.append(xk[0])\n",
    "                XK2.append(xk[1])\n",
    "                K.append(k)\n",
    "                F.append(func(xk))\n",
    "        else:\n",
    "            print('Выполнено с ошибкой, альфа не может быть найдена с такими условиями')\n",
    "            print(\"время выполнения( в секундах ) = %s \" % (time.time() - start_time))\n",
    "            print()\n",
    "            return 4\n",
    "            break\n",
    "\n",
    "    if p2 :\n",
    "        data = pd.DataFrame(np.array([XK1,XK2,K,F]).transpose(), columns = ['x1', 'x2','k','F'])\n",
    "        print(data)\n",
    "        \n",
    "    if k == maxiter :\n",
    "        print (f'Координаты точки экстремума : {xk}')\n",
    "        print (f'Значение функции в точке экстремума : {func(xk)}')\n",
    "        print('Макс итераций')\n",
    "        print(\"время выполнения( в секундах ) = %s \" % (time.time() - start_time))\n",
    "        print()\n",
    "        return (xk,func(xk),2)\n",
    "    elif any(xk) > xmax :\n",
    "        print (f'Координаты точки экстремума : {xk}')\n",
    "        print (f'Значение функции в точке экстремума : {func(xk)}')\n",
    "        print('Ограничение на макс возможное значение аргумента')\n",
    "        print(\"время выполнения( в секундах ) = %s \" % (time.time() - start_time))\n",
    "        print()\n",
    "        return (xk,func(xk),3)\n",
    "    else :\n",
    "        print (f'Координаты точки экстремума : {xk}')\n",
    "        print (f'Значение функции в точке экстремума : {func(xk)}')\n",
    "        print('Точка, удовлетворяющая условиям найдена')\n",
    "        print(f'время выполнения( в секундах ) = {(time.time() - start_time)}')\n",
    "        print()\n",
    "        return  (xk,func(xk), 1)\n",
    "    "
   ]
  },
  {
   "cell_type": "code",
   "execution_count": 32,
   "id": "identical-trader",
   "metadata": {
    "scrolled": false
   },
   "outputs": [
    {
     "name": "stdout",
     "output_type": "stream",
     "text": [
      "Координаты точки экстремума : [-4.  1.]\n",
      "Значение функции в точке экстремума : -1.0\n",
      "Точка, удовлетворяющая условиям найдена\n",
      "время выполнения( в секундах ) = 0.000997304916381836\n",
      "\n"
     ]
    },
    {
     "data": {
      "text/plain": [
       "(array([-4.,  1.]), -1.0, 1)"
      ]
     },
     "execution_count": 32,
     "metadata": {},
     "output_type": "execute_result"
    }
   ],
   "source": [
    "BFGS(f, f1)"
   ]
  },
  {
   "cell_type": "code",
   "execution_count": 33,
   "id": "friendly-delaware",
   "metadata": {},
   "outputs": [
    {
     "name": "stdout",
     "output_type": "stream",
     "text": [
      "[-2.57142857  2.78571429] 1.6785714285714235\n",
      "[-4.10204082  0.87244898] -0.986333819241981\n",
      "[-4.  1.] -1.0\n",
      "Координаты точки экстремума : [-4.  1.]\n",
      "Значение функции в точке экстремума : -1.0\n",
      "Точка, удовлетворяющая условиям найдена\n",
      "время выполнения( в секундах ) = 0.0009975433349609375\n",
      "\n"
     ]
    },
    {
     "data": {
      "text/plain": [
       "(array([-4.,  1.]), -1.0, 1)"
      ]
     },
     "execution_count": 33,
     "metadata": {},
     "output_type": "execute_result"
    }
   ],
   "source": [
    "BFGS(f, f1,p1 = True)"
   ]
  },
  {
   "cell_type": "code",
   "execution_count": 34,
   "id": "controlling-ending",
   "metadata": {
    "scrolled": false
   },
   "outputs": [
    {
     "name": "stdout",
     "output_type": "stream",
     "text": [
      "         x1        x2    k         F\n",
      "0 -2.571429  2.785714  1.0  1.678571\n",
      "1 -4.102041  0.872449  2.0 -0.986334\n",
      "2 -4.000000  1.000000  3.0 -1.000000\n",
      "Координаты точки экстремума : [-4.  1.]\n",
      "Значение функции в точке экстремума : -1.0\n",
      "Точка, удовлетворяющая условиям найдена\n",
      "время выполнения( в секундах ) = 0.0039539337158203125\n",
      "\n"
     ]
    },
    {
     "data": {
      "text/plain": [
       "(array([-4.,  1.]), -1.0, 1)"
      ]
     },
     "execution_count": 34,
     "metadata": {},
     "output_type": "execute_result"
    }
   ],
   "source": [
    "BFGS(f, f1,p2 = True)"
   ]
  },
  {
   "cell_type": "markdown",
   "id": "grateful-guitar",
   "metadata": {},
   "source": [
    "### 1)"
   ]
  },
  {
   "cell_type": "code",
   "execution_count": 35,
   "id": "paperback-singapore",
   "metadata": {},
   "outputs": [
    {
     "data": {
      "text/plain": [
       "'x[0]/(x[0]**2 + x[1])'"
      ]
     },
     "execution_count": 35,
     "metadata": {},
     "output_type": "execute_result"
    }
   ],
   "source": [
    "def func(var1 = 'x',var2 = 'y',f = 'x/(x**2 + y)'):\n",
    "    return f.replace(var1,'x[0]').replace(var2,'x[1]')\n",
    "func()"
   ]
  },
  {
   "cell_type": "code",
   "execution_count": 36,
   "id": "alpha-bruce",
   "metadata": {},
   "outputs": [
    {
     "data": {
      "text/plain": [
       "('-2*x[0]**2/(x[0]**2 + x[1])**2 + 1/(x[0]**2 + x[1])',\n",
       " '-x[0]/(x[0]**2 + x[1])**2')"
      ]
     },
     "execution_count": 36,
     "metadata": {},
     "output_type": "execute_result"
    }
   ],
   "source": [
    "def gradFunc(var1 = 'x',var2 = 'y', f = 'x/(x**2 + y)'):\n",
    "    x = Symbol(var1)\n",
    "    y = Symbol(var2)\n",
    "    f = parse_expr(f)\n",
    "    return str(f.diff(x)).replace('x','x[0]').replace('y','x[1]') , str(f.diff(y)).replace('x','x[0]').replace('y','x[1]')\n",
    "gradFunc()"
   ]
  },
  {
   "cell_type": "code",
   "execution_count": 37,
   "id": "placed-overhead",
   "metadata": {},
   "outputs": [],
   "source": [
    "def f(x):\n",
    "    return x[0]**2 - x[0]*x[1] + x[1]**2 + 9*x[0] - 6*x[1] + 20\n",
    "\n",
    "# gradient\n",
    "def f1(x):\n",
    "    return np.array([-2*x[0]**2/(x[0]**2 + x[1])**2 + 1/(x[0]**2 + x[1]), -x[0]/(x[0]**2 + x[1])**2])"
   ]
  },
  {
   "cell_type": "code",
   "execution_count": 38,
   "id": "effective-somalia",
   "metadata": {},
   "outputs": [
    {
     "name": "stdout",
     "output_type": "stream",
     "text": [
      "Выполнено с ошибкой, альфа не может быть найдена с такими условиями\n",
      "время выполнения( в секундах ) = 0.0009963512420654297 \n",
      "\n"
     ]
    },
    {
     "name": "stderr",
     "output_type": "stream",
     "text": [
      "D:\\Anaconda\\lib\\site-packages\\scipy\\optimize\\linesearch.py:327: LineSearchWarning: The line search algorithm did not converge\n",
      "  warn('The line search algorithm did not converge', LineSearchWarning)\n"
     ]
    },
    {
     "data": {
      "text/plain": [
       "4"
      ]
     },
     "execution_count": 38,
     "metadata": {},
     "output_type": "execute_result"
    }
   ],
   "source": [
    "BFGS(f, f1)"
   ]
  },
  {
   "cell_type": "markdown",
   "id": "given-voice",
   "metadata": {},
   "source": [
    "### 2)"
   ]
  },
  {
   "cell_type": "code",
   "execution_count": 39,
   "id": "sharing-mouse",
   "metadata": {},
   "outputs": [
    {
     "data": {
      "text/plain": [
       "'(x[0]+x[1])**5 - 2 * (x[0]+x[1])**4'"
      ]
     },
     "execution_count": 39,
     "metadata": {},
     "output_type": "execute_result"
    }
   ],
   "source": [
    "def func(var1 = 'x',var2 = 'y',f = '(x+y)**5 - 2 * (x+y)**4'):\n",
    "    return f.replace(var1,'x[0]').replace(var2,'x[1]')\n",
    "func()"
   ]
  },
  {
   "cell_type": "code",
   "execution_count": 40,
   "id": "criminal-giving",
   "metadata": {},
   "outputs": [],
   "source": [
    "a = parse_expr('(x+y)**5 - 2 * (x+y)**4')"
   ]
  },
  {
   "cell_type": "code",
   "execution_count": 41,
   "id": "graphic-shark",
   "metadata": {},
   "outputs": [],
   "source": [
    "var1 = 'x'\n",
    "var2 = 'y'"
   ]
  },
  {
   "cell_type": "code",
   "execution_count": 42,
   "id": "supported-march",
   "metadata": {},
   "outputs": [],
   "source": [
    "x = Symbol(var1)\n",
    "y = Symbol(var2)"
   ]
  },
  {
   "cell_type": "code",
   "execution_count": 43,
   "id": "diverse-copper",
   "metadata": {},
   "outputs": [
    {
     "data": {
      "text/plain": [
       "'5*(x[0] + x[1])**4 - 8*(x[0] + x[1])**3'"
      ]
     },
     "execution_count": 43,
     "metadata": {},
     "output_type": "execute_result"
    }
   ],
   "source": [
    "str(a.diff(x)).replace('x','x[0]').replace('y','x[1]')"
   ]
  },
  {
   "cell_type": "code",
   "execution_count": 44,
   "id": "vocational-memphis",
   "metadata": {},
   "outputs": [
    {
     "data": {
      "text/plain": [
       "'5*(x[0] + x[1])**4 - 8*(x[0] + x[1])**3'"
      ]
     },
     "execution_count": 44,
     "metadata": {},
     "output_type": "execute_result"
    }
   ],
   "source": [
    "str(a.diff(y)).replace('x','x[0]').replace('y','x[1]')"
   ]
  },
  {
   "cell_type": "code",
   "execution_count": 65,
   "id": "numerical-syndicate",
   "metadata": {},
   "outputs": [],
   "source": [
    "def f(x):\n",
    "    return (x[0]+x[1])**5 - 2 * (x[0]+x[1])**4\n",
    "\n",
    "# gradient\n",
    "def f1(x):\n",
    "    return np.array([5*(x[0] + x[1])**4 - 8*(x[0] + x[1])**3, 5*(x[0] + x[1])**4 - 8*(x[0] + x[1])**3])"
   ]
  },
  {
   "cell_type": "code",
   "execution_count": 73,
   "id": "charming-malta",
   "metadata": {
    "scrolled": true
   },
   "outputs": [
    {
     "name": "stdout",
     "output_type": "stream",
     "text": [
      "Координаты точки экстремума : [1.29999973 0.29999973]\n",
      "Значение функции в точке экстремума : -2.621439999996918\n",
      "Точка, удовлетворяющая условиям найдена\n",
      "время выполнения( в секундах ) = 0.0019664764404296875\n",
      "\n"
     ]
    },
    {
     "data": {
      "text/plain": [
       "(array([1.29999973, 0.29999973]), -2.621439999996918, 1)"
      ]
     },
     "execution_count": 73,
     "metadata": {},
     "output_type": "execute_result"
    }
   ],
   "source": [
    "BFGS(f, f1, x0 =[1,0])"
   ]
  },
  {
   "cell_type": "markdown",
   "id": "dutch-physics",
   "metadata": {},
   "source": [
    "### 3)"
   ]
  },
  {
   "cell_type": "code",
   "execution_count": 48,
   "id": "assigned-artist",
   "metadata": {},
   "outputs": [
    {
     "data": {
      "text/plain": [
       "'x[0]**3 + x[0]*x[1]**2 + x[0]**2 + x[1]**2'"
      ]
     },
     "execution_count": 48,
     "metadata": {},
     "output_type": "execute_result"
    }
   ],
   "source": [
    "def func(var1 = 'x',var2 = 'y',f = 'x**3 + x*y**2 + x**2 + y**2'):\n",
    "    return f.replace(var1,'x[0]').replace(var2,'x[1]')\n",
    "func()"
   ]
  },
  {
   "cell_type": "code",
   "execution_count": 49,
   "id": "champion-cause",
   "metadata": {},
   "outputs": [
    {
     "data": {
      "text/plain": [
       "('3*x[0]**2 + 2*x[0] + x[1]**2', '2*x[0]*x[1] + 2*x[1]')"
      ]
     },
     "execution_count": 49,
     "metadata": {},
     "output_type": "execute_result"
    }
   ],
   "source": [
    "def gradFunc(var1 = 'x',var2 = 'y', f = 'x**3 + x*y**2 + x**2 + y**2'):\n",
    "    x = Symbol(var1)\n",
    "    y = Symbol(var2)\n",
    "    f = parse_expr(f)\n",
    "    return str(f.diff(x)).replace('x','x[0]').replace('y','x[1]') , str(f.diff(y)).replace('x','x[0]').replace('y','x[1]')\n",
    "gradFunc()"
   ]
  },
  {
   "cell_type": "code",
   "execution_count": 54,
   "id": "ecological-commodity",
   "metadata": {},
   "outputs": [],
   "source": [
    "def f(x):\n",
    "    return x[0]**3 + x[0]*x[1]**2 + x[0]**2 + x[1]**2\n",
    "\n",
    "# gradient\n",
    "def f1(x):\n",
    "    return np.array([3*x[0]**2 + 2*x[0] + x[1]**2, 2*x[0]*x[1] + 2*x[1]])"
   ]
  },
  {
   "cell_type": "code",
   "execution_count": 74,
   "id": "compact-label",
   "metadata": {},
   "outputs": [
    {
     "name": "stdout",
     "output_type": "stream",
     "text": [
      "Координаты точки экстремума : [1.29999973 0.29999973]\n",
      "Значение функции в точке экстремума : -2.621439999996918\n",
      "Точка, удовлетворяющая условиям найдена\n",
      "время выполнения( в секундах ) = 0.0019958019256591797\n",
      "\n"
     ]
    },
    {
     "data": {
      "text/plain": [
       "(array([1.29999973, 0.29999973]), -2.621439999996918, 1)"
      ]
     },
     "execution_count": 74,
     "metadata": {},
     "output_type": "execute_result"
    }
   ],
   "source": [
    "BFGS(f, f1, x0 =[1,0])"
   ]
  },
  {
   "cell_type": "markdown",
   "id": "checked-average",
   "metadata": {},
   "source": [
    "### 4)"
   ]
  },
  {
   "cell_type": "code",
   "execution_count": 61,
   "id": "functional-halloween",
   "metadata": {},
   "outputs": [
    {
     "data": {
      "text/plain": [
       "'x[0]**3 + 3*x[0]*x[1]**2 - 15*x[0] -12 * x[1]'"
      ]
     },
     "execution_count": 61,
     "metadata": {},
     "output_type": "execute_result"
    }
   ],
   "source": [
    "def func(var1 = 'x',var2 = 'y',f = 'x**3 + 3*x*y**2 - 15*x -12 * y'):\n",
    "    return f.replace(var1,'x[0]').replace(var2,'x[1]')\n",
    "func()"
   ]
  },
  {
   "cell_type": "code",
   "execution_count": 62,
   "id": "special-retirement",
   "metadata": {},
   "outputs": [
    {
     "data": {
      "text/plain": [
       "('3*x[0]**2 + 3*x[1]**2 - 15', '6*x[0]*x[1] - 12')"
      ]
     },
     "execution_count": 62,
     "metadata": {},
     "output_type": "execute_result"
    }
   ],
   "source": [
    "def gradFunc(var1 = 'x',var2 = 'y', f = 'x**3 + 3*x*y**2 - 15*x -12 * y'):\n",
    "    x = Symbol(var1)\n",
    "    y = Symbol(var2)\n",
    "    f = parse_expr(f)\n",
    "    return str(f.diff(x)).replace('x','x[0]').replace('y','x[1]') , str(f.diff(y)).replace('x','x[0]').replace('y','x[1]')\n",
    "gradFunc()"
   ]
  },
  {
   "cell_type": "code",
   "execution_count": 63,
   "id": "respected-outside",
   "metadata": {},
   "outputs": [],
   "source": [
    "def f(x):\n",
    "    return x[0]**3 + 3*x[0]*x[1]**2 - 15*x[0] -12 * x[1]\n",
    "\n",
    "# gradient\n",
    "def f1(x):\n",
    "    return np.array([3*x[0]**2 + 3*x[1]**2 - 15, 6*x[0]*x[1] - 12])"
   ]
  },
  {
   "cell_type": "code",
   "execution_count": 64,
   "id": "distinguished-standard",
   "metadata": {},
   "outputs": [
    {
     "name": "stdout",
     "output_type": "stream",
     "text": [
      "Координаты точки экстремума : [1.99999751 0.99999747]\n",
      "Значение функции в точке экстремума : -27.999999999886388\n",
      "Точка, удовлетворяющая условиям найдена\n",
      "время выполнения( в секундах ) = 0.0019958019256591797\n",
      "\n"
     ]
    },
    {
     "data": {
      "text/plain": [
       "(array([1.99999751, 0.99999747]), -27.999999999886388, 1)"
      ]
     },
     "execution_count": 64,
     "metadata": {},
     "output_type": "execute_result"
    }
   ],
   "source": [
    "BFGS(f, f1)"
   ]
  },
  {
   "cell_type": "markdown",
   "id": "worthy-working",
   "metadata": {},
   "source": [
    "### 5)"
   ]
  },
  {
   "cell_type": "code",
   "execution_count": 75,
   "id": "under-horizon",
   "metadata": {},
   "outputs": [
    {
     "data": {
      "text/plain": [
       "'(x[0]**2) * (x[1] **2) + 0.5*x[0]**2 + 0.5*x[1]**2 + x[0]*x[1] + 1'"
      ]
     },
     "execution_count": 75,
     "metadata": {},
     "output_type": "execute_result"
    }
   ],
   "source": [
    "def func(var1 = 'x',var2 = 'y',f = '(x**2) * (y **2) + 0.5*x**2 + 0.5*y**2 + x*y + 1'):\n",
    "    return f.replace(var1,'x[0]').replace(var2,'x[1]')\n",
    "func()"
   ]
  },
  {
   "cell_type": "code",
   "execution_count": 77,
   "id": "dangerous-strength",
   "metadata": {},
   "outputs": [
    {
     "data": {
      "text/plain": [
       "('2*x[0]*x[1]**2 + 1.0*x[0] + x[1]', '2*x[0]**2*x[1] + x[0] + 1.0*x[1]')"
      ]
     },
     "execution_count": 77,
     "metadata": {},
     "output_type": "execute_result"
    }
   ],
   "source": [
    "def gradFunc(var1 = 'x',var2 = 'y', f = '(x**2) * (y **2) + 0.5*x**2 + 0.5*y**2 + x*y + 1'):\n",
    "    x = Symbol(var1)\n",
    "    y = Symbol(var2)\n",
    "    f = parse_expr(f)\n",
    "    return str(f.diff(x)).replace('x','x[0]').replace('y','x[1]') , str(f.diff(y)).replace('x','x[0]').replace('y','x[1]')\n",
    "gradFunc()"
   ]
  },
  {
   "cell_type": "code",
   "execution_count": 78,
   "id": "efficient-relay",
   "metadata": {},
   "outputs": [],
   "source": [
    "def f(x):\n",
    "    return (x[0]**2) * (x[1] **2) + 0.5*x[0]**2 + 0.5*x[1]**2 + x[0]*x[1] + 1\n",
    "\n",
    "# gradient\n",
    "def f1(x):\n",
    "    return np.array([2*x[0]*x[1]**2 + 1.0*x[0] + x[1], 2*x[0]**2*x[1] + x[0] + 1.0*x[1]])"
   ]
  },
  {
   "cell_type": "code",
   "execution_count": 80,
   "id": "preliminary-cooler",
   "metadata": {},
   "outputs": [
    {
     "name": "stdout",
     "output_type": "stream",
     "text": [
      "Координаты точки экстремума : [-0.0076573   0.00762688]\n",
      "Значение функции в точке экстремума : 1.0000000038733976\n",
      "Точка, удовлетворяющая условиям найдена\n",
      "время выполнения( в секундах ) = 0.0029914379119873047\n",
      "\n"
     ]
    },
    {
     "data": {
      "text/plain": [
       "(array([-0.0076573 ,  0.00762688]), 1.0000000038733976, 1)"
      ]
     },
     "execution_count": 80,
     "metadata": {},
     "output_type": "execute_result"
    }
   ],
   "source": [
    "BFGS(f, f1, x0 = [1,2])"
   ]
  }
 ],
 "metadata": {
  "kernelspec": {
   "display_name": "Python 3",
   "language": "python",
   "name": "python3"
  },
  "language_info": {
   "codemirror_mode": {
    "name": "ipython",
    "version": 3
   },
   "file_extension": ".py",
   "mimetype": "text/x-python",
   "name": "python",
   "nbconvert_exporter": "python",
   "pygments_lexer": "ipython3",
   "version": "3.8.8"
  }
 },
 "nbformat": 4,
 "nbformat_minor": 5
}
